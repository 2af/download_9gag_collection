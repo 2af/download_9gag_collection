{
 "cells": [
  {
   "cell_type": "markdown",
   "metadata": {},
   "source": [
    "# download your 9GAG collection"
   ]
  },
  {
   "cell_type": "markdown",
   "metadata": {},
   "source": [
    "### step 1 initiate browser window"
   ]
  },
  {
   "cell_type": "code",
   "execution_count": 2,
   "metadata": {},
   "outputs": [],
   "source": [
    "import os\n",
    "from selenium import webdriver\n",
    "from selenium.webdriver.common.keys import Keys\n",
    "from datetime import datetime\n",
    "import time \n",
    "import re\n",
    "import pandas as pd\n",
    "from bs4 import BeautifulSoup as b\n",
    "import requests\n",
    "import shutil\n",
    "# DOWNLOAD AND PUT CHROMEDRIVER TO THIS NOTEBOOK FOLDER\n",
    "driver = webdriver.Chrome(os.path.join('.', 'chromedriver'))\n",
    "driver.get(\"https://9gag.com\")\n",
    "\n",
    "time.sleep(3)\n",
    "driver.find_element_by_tag_name(\"body\").send_keys(\"Keys.ESCAPE\");\n"
   ]
  },
  {
   "cell_type": "markdown",
   "metadata": {},
   "source": [
    "### step 2.1 manually login with facebook (haven't tested with other login options)"
   ]
  },
  {
   "cell_type": "markdown",
   "metadata": {},
   "source": [
    "### step 2.2 proceed to your likes/upvotes page"
   ]
  },
  {
   "cell_type": "markdown",
   "metadata": {},
   "source": [
    "![title](find_username.png)"
   ]
  },
  {
   "cell_type": "code",
   "execution_count": 3,
   "metadata": {},
   "outputs": [],
   "source": [
    "USERNAME = 'your_username'\n",
    "driver.find_element_by_tag_name(\"body\").send_keys(\"Keys.ESCAPE\");\n",
    "driver.get(f\"https://9gag.com/u/{USERNAME}/likes\")"
   ]
  },
  {
   "cell_type": "markdown",
   "metadata": {},
   "source": [
    "### step 3 run scroll-scrape process"
   ]
  },
  {
   "cell_type": "code",
   "execution_count": 4,
   "metadata": {},
   "outputs": [
    {
     "name": "stdout",
     "output_type": "stream",
     "text": [
      "it's better to have selenium window active\n",
      "scraping finished\n"
     ]
    }
   ],
   "source": [
    "# it's better to have your window active\n",
    "print(\"it's better to have selenium window active\")\n",
    "def eat_streams(current_streams):\n",
    "    global streams\n",
    "    for s in current_streams:\n",
    "        if not int(s.get('id').split('-')[1]) in streams:\n",
    "            arts = []\n",
    "            for a in b(str(s)).find_all('article'):\n",
    "                art = {}\n",
    "                art['post_id'] = str(a.get('id')).split('-')[2]\n",
    "\n",
    "                ba = b(str(a))\n",
    "\n",
    "                art['title'] = ba.find('h1').text\n",
    "\n",
    "                head = ba.find('header').find('p', {'class': 'message'}).text\n",
    "                art['section'] = re.sub('[\\n ]+', ' ', head.split('·')[0]).strip()\n",
    "                art['published'] = re.sub(' +', ' ', head.split('·')[1]).strip()\n",
    "\n",
    "                meta = ba.find('p', {'class': 'post-meta'}).text\n",
    "                art['upvotes'] = re.sub(' +', ' ', meta.split('·')[0]).strip()\n",
    "                if art['upvotes'] != '• points':\n",
    "                    art['upvotes'] = int(re.sub('(points|,|comments| )', '', art['upvotes']))\n",
    "                else:\n",
    "                    art['upvotes'] = 0 \n",
    "                art['comments'] = re.sub(' +', ' ', meta.split('·')[1]).strip()\n",
    "                art['comments'] = int(re.sub('(points|,|comments| )', '', art['comments']))\n",
    "\n",
    "                video_src = ba.find('source', {'type':'video/mp4'})\n",
    "                if video_src:\n",
    "                    media_link = video_src.get('src')\n",
    "                else:\n",
    "                    img_src = ba.find('div', {'class':'post-container'})\n",
    "                    img_src = b(str(img_src)).find('source', {'type':'image/webp'})\n",
    "                    if img_src:\n",
    "                        media_link = img_src.find_next('img').get('src')\n",
    "                    else:\n",
    "                        media_link = 'unable to find source tag. Html structure has probably changed since 2020/10/10'\n",
    "                art['media_link'] = media_link\n",
    "                arts.append(art)\n",
    "            streams[int(s.get('id').split('-')[1])] = arts\n",
    "\n",
    "_ = 0 \n",
    "streams = {}\n",
    "while 'No more posts' not in driver.page_source:\n",
    "    _ += 1\n",
    "    \n",
    "    current_streams = b(driver.page_source).find_all('div', {'id': re.compile(r'^stream')})\n",
    "    eat_streams(current_streams)\n",
    "    \n",
    "    driver.execute_script(\"window.scrollTo(0, document.body.scrollHeight);\")\n",
    "    time.sleep(1.5)\n",
    "    if not _ % 20: print(f\"scrolled {_} times\")\n",
    "    # 300scrolls should be enough to load the whole page\n",
    "    if _ > 300: break\n",
    "print('scraping finished')\n",
    "\n",
    "for stream_id, posts in streams.items():\n",
    "    if stream_id == 0:\n",
    "        df = pd.json_normalize(posts)\n",
    "    else:\n",
    "        df = df.append(pd.json_normalize(posts), ignore_index=True)\n",
    "\n",
    "df['file_name']= df.index.astype('str').str.zfill(3) + '_ ' + df.title.str.replace('[:/\\|?\"*.%<>]','').apply(lambda x: x[:70])\n",
    "\n",
    "fldr=f'9gags_{datetime.now().strftime(\"%Y%m%d_%H%M%S\")}'\n",
    "if not os.path.exists(fldr):\n",
    "    os.mkdir(fldr)\n",
    "\n",
    "def download_media(columns):\n",
    "    media_link = columns[0]\n",
    "    file_name = columns[1]\n",
    "    if media_link[-4:] in ('.jpg', '.mp4'):\n",
    "        response = requests.get(media_link, stream=True)\n",
    "        with open(os.path.join(fldr, file_name + media_link[-4:]), 'wb') as out_file:\n",
    "            shutil.copyfileobj(response.raw, out_file)\n",
    "        return 1\n",
    "    else:\n",
    "        return 0"
   ]
  },
  {
   "cell_type": "markdown",
   "metadata": {},
   "source": [
    "### step 4 download the media-files, save csv"
   ]
  },
  {
   "cell_type": "code",
   "execution_count": 5,
   "metadata": {},
   "outputs": [
    {
     "name": "stdout",
     "output_type": "stream",
     "text": [
      "download finished\n"
     ]
    }
   ],
   "source": [
    "df['downloaded'] = df[['media_link','file_name']].apply(download_media, axis=1)\n",
    "df.to_csv(os.path.join(fldr, '_db.csv'))\n",
    "print('download finished')"
   ]
  },
  {
   "cell_type": "markdown",
   "metadata": {},
   "source": [
    "### step 5 end. enjoy your lovely collection"
   ]
  },
  {
   "cell_type": "code",
   "execution_count": null,
   "metadata": {},
   "outputs": [],
   "source": []
  },
  {
   "cell_type": "markdown",
   "metadata": {},
   "source": [
    "## WARNING! CLEARING 9GAG PROFILE UPVOTES DATA\n",
    "### step 6 (optional) clear your 9gag collection, post by post, to free up space for upcomming liked posts (remember, 9gag only saves 1000 upvoted posts in your profile)"
   ]
  },
  {
   "cell_type": "markdown",
   "metadata": {},
   "source": [
    "### step 6.1 (optional) initiate browser window (skip if it's open)"
   ]
  },
  {
   "cell_type": "code",
   "execution_count": 7,
   "metadata": {},
   "outputs": [],
   "source": [
    "import os\n",
    "from selenium import webdriver\n",
    "from selenium.webdriver.common.keys import Keys\n",
    "import time\n",
    "# DOWNLOAD AND PUT CHROMEDRIVER TO THIS NOTEBOOK FOLDER\n",
    "# ======= enable this block to prevent img loading:\n",
    "# chrome_options = webdriver.ChromeOptions()\n",
    "# prefs = {\"profile.managed_default_content_settings.images\": 2}\n",
    "# chrome_options.add_experimental_option(\"prefs\", prefs)\n",
    "# driver = webdriver.Chrome(os.path.join('.', 'chromedriver'), options=chrome_options)\n",
    "# :enable this block to prevent img loading =======\n",
    "driver = webdriver.Chrome(os.path.join('.', 'chromedriver'))\n",
    "\n",
    "driver.get(\"https://9gag.com\")\n",
    "\n",
    "time.sleep(3)\n",
    "driver.find_element_by_tag_name(\"body\").send_keys(\"Keys.ESCAPE\");\n"
   ]
  },
  {
   "cell_type": "markdown",
   "metadata": {},
   "source": [
    "### step 6.2 manually login with facebook (haven't tested with other login options) (skip if already logged in)"
   ]
  },
  {
   "cell_type": "code",
   "execution_count": 86,
   "metadata": {},
   "outputs": [],
   "source": [
    "driver.find_element_by_tag_name(\"body\").send_keys(\"Keys.ESCAPE\");\n",
    "USERNAME = 'your_username'\n",
    "driver.get(f\"https://9gag.com/u/{USERNAME}/likes\")"
   ]
  },
  {
   "cell_type": "markdown",
   "metadata": {},
   "source": [
    "### state-of-the-art code == contribution appreciated:\n",
    "### step 6.3 click UNUPVOTE button"
   ]
  },
  {
   "cell_type": "code",
   "execution_count": 9,
   "metadata": {},
   "outputs": [
    {
     "name": "stdout",
     "output_type": "stream",
     "text": [
      "it's better to have selenium window active\n",
      "1 page_refresh: since 9gag randomly throws [No more posts] block\n",
      "2 page_refresh: since 9gag randomly throws [No more posts] block\n",
      "scrolled 30 times\n",
      "3 page_refresh: since 9gag randomly throws [No more posts] block\n",
      "scrolled 30 times\n",
      "scrolled 60 times\n",
      "scrolled 90 times\n",
      "scrolled 120 times\n",
      "scrolled 150 times\n",
      "scrolled 180 times\n",
      "scrolled 210 times\n",
      "scrolled 240 times\n",
      "scrolled 270 times\n",
      "scrolled 300 times\n",
      "4 page_refresh: since 9gag randomly throws [No more posts] block\n",
      "hopefully your collection is empty now. Otherwise, repeat untill you see the [Posts you upvoted will show up here] block\n"
     ]
    }
   ],
   "source": [
    "# it's better to have your window active\n",
    "print(\"it's better to have selenium window active\")\n",
    "\n",
    "driver.get(f\"https://9gag.com/u/{USERNAME}/likes\")\n",
    "from selenium.webdriver.common.keys import Keys\n",
    "\n",
    "refresh_iteration = 0\n",
    "while 'Posts you upvoted will show up here' not in driver.page_source:  \n",
    "    driver.refresh()\n",
    "    refresh_iteration += 1\n",
    "    _ = 0 \n",
    "    while 'No more posts' not in driver.page_source and 'Posts you upvoted will show up here' not in driver.page_source:\n",
    "        _ += 1\n",
    "\n",
    "        # unclick everything inside loaded streams\n",
    "        # bye-bye to your upvoted gags\n",
    "        up_active = driver.find_elements_by_xpath(f'''//a[@class=\"up active\"]''')\n",
    "        for element in up_active:\n",
    "            driver.execute_script(\"arguments[0].click();\", element)\n",
    "            time.sleep(0.3)   \n",
    "\n",
    "\n",
    "        driver.find_element_by_tag_name('body').send_keys(Keys.PAGE_DOWN)\n",
    "        driver.find_element_by_tag_name('body').send_keys(Keys.PAGE_DOWN)\n",
    "\n",
    "        if not _ % 30: print(f\"scrolled {_} times\")\n",
    "        # 300scrolls should be enough to load the whole page\n",
    "        if _ > 300: break\n",
    "    \n",
    "    print(f'{refresh_iteration} page_refresh: since 9gag randomly throws [No more posts] block')\n",
    "    time.sleep(0.6)   \n",
    "    if refresh_iteration > 40: break\n",
    "        \n",
    "print('hopefully your collection is empty now. Otherwise, repeat untill you see the [Posts you upvoted will show up here] block')\n"
   ]
  },
  {
   "cell_type": "markdown",
   "metadata": {},
   "source": [
    "### step 7 end. enjoy your empty 9GAG collection"
   ]
  }
 ],
 "metadata": {
  "kernelspec": {
   "display_name": "Python 3",
   "language": "python",
   "name": "python3"
  },
  "language_info": {
   "codemirror_mode": {
    "name": "ipython",
    "version": 3
   },
   "file_extension": ".py",
   "mimetype": "text/x-python",
   "name": "python",
   "nbconvert_exporter": "python",
   "pygments_lexer": "ipython3",
   "version": "3.8.5"
  }
 },
 "nbformat": 4,
 "nbformat_minor": 2
}
